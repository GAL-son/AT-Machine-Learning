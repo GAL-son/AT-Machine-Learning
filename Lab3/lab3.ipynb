{
 "cells": [
  {
   "cell_type": "markdown",
   "metadata": {},
   "source": [
    "<h1>Machine Learning - Laboratory 3 - Bag of words</h1>\n",
    "\n",
    "<p><b>Note</b> - Run All scripts before<p>"
   ]
  },
  {
   "cell_type": "markdown",
   "metadata": {},
   "source": [
    "<h3>Exc. 1 - Test Bag of Words method</h3>"
   ]
  },
  {
   "cell_type": "code",
   "execution_count": 60,
   "metadata": {},
   "outputs": [
    {
     "name": "stdout",
     "output_type": "stream",
     "text": [
      "Słownik (unikalne słowa):  ['dokument' 'dwa' 'jest' 'numer' 'ostatni' 'pierwszy' 'to' 'tym' 'zbiorze']\n",
      "Macierz Bag of words:\n",
      "[[1 0 1 0 0 1 1 0 0]\n",
      " [1 1 0 1 0 0 0 0 0]\n",
      " [1 0 0 0 1 0 0 1 1]]\n"
     ]
    }
   ],
   "source": [
    "from sklearn.feature_extraction.text import CountVectorizer\n",
    "\n",
    "# Example text\n",
    "documents = [\n",
    "    \"To jest pierwszy dokument.\",\n",
    "    \"Dokument numer dwa.\",\n",
    "    \"Ostatni dokument w tym zbiorze.\"\n",
    "]\n",
    "\n",
    "# Initialize CountVectorizer object\n",
    "vectorizer = CountVectorizer()\n",
    "\n",
    "# Processing and transformation of documents with Bag of Words method\n",
    "X = vectorizer.fit_transform(documents)\n",
    "\n",
    "# Displaying the dictionary (unique words)\n",
    "print(\"Słownik (unikalne słowa): \", vectorizer.get_feature_names_out())\n",
    "\n",
    "# Displaying Bag of Words matricies\n",
    "print(\"Macierz Bag of words:\")\n",
    "print(X.toarray())"
   ]
  },
  {
   "cell_type": "markdown",
   "metadata": {},
   "source": [
    "<h3>Exc. 2 - Implement your own Bag of words</h3>"
   ]
  },
  {
   "cell_type": "code",
   "execution_count": 61,
   "metadata": {},
   "outputs": [
    {
     "name": "stdout",
     "output_type": "stream",
     "text": [
      "Unikalne słowa:  ['numer', 'to', 'zbiorze', 'dokument', 'tym', 'w', 'ostatni', 'jest', 'dwa', 'pierwszy']\n",
      "Macierz Bag of Words:\n",
      "[0, 1, 0, 1, 0, 0, 0, 1, 0, 1]\n",
      "[1, 0, 0, 1, 0, 0, 0, 0, 1, 0]\n",
      "[0, 0, 1, 1, 1, 1, 1, 0, 0, 0]\n"
     ]
    }
   ],
   "source": [
    "import re\n",
    "\n",
    "# Define my bag of words functions \n",
    "def my_bag_of_words(documents):\n",
    "\n",
    "    # Tokenization and cleanup of text (helper function)\n",
    "    def preprocess_text(text):\n",
    "        # Deletion of punctuation marks\n",
    "        text = re.sub(r'[^\\w\\s]', '', text.lower())\n",
    "        # Separate words by the space\n",
    "        tokens = text.split(\" \")\n",
    "        \n",
    "        return tokens\n",
    "\n",
    "    # Create a dictionary and counting words \n",
    "    all_words = []\n",
    "\n",
    "    for document in documents:\n",
    "        tokens = preprocess_text(document)\n",
    "        words = {}\n",
    "        for token in tokens:\n",
    "            if token in words:\n",
    "                words[token] += 1\n",
    "            else: \n",
    "                words[token] = 1 \n",
    "        all_words.append(words)\n",
    "\n",
    "    # Create vocalbulary list (unique words)\n",
    "    vocabulary = list(set([item for sublist in all_words for item in sublist.keys()]))\n",
    "\n",
    "    # Create Bag of worrds Matrix\n",
    "    bow_matrix = []\n",
    "    for document in all_words:\n",
    "        bow_vector = [(lambda x: document[x] if (x in document) else 0)(x) for x in vocabulary]\n",
    "        bow_matrix.append(bow_vector)\n",
    "\n",
    "    return vocabulary, bow_matrix\n",
    "\n",
    "\n",
    "vocabulary, bow_matrix = my_bag_of_words(documents)\n",
    "# Display dictionary\n",
    "print (\"Unikalne słowa: \",vocabulary)\n",
    "\n",
    "# Display bag od words matrix\n",
    "print(\"Macierz Bag of Words:\") \n",
    "for bow_vector in bow_matrix: \n",
    "    print(bow_vector)\n",
    "    "
   ]
  },
  {
   "cell_type": "markdown",
   "metadata": {},
   "source": [
    "<h3>Bonus Exc. - Test on different dataset<h3>"
   ]
  },
  {
   "cell_type": "code",
   "execution_count": 62,
   "metadata": {},
   "outputs": [
    {
     "name": "stdout",
     "output_type": "stream",
     "text": [
      "Unikalne słowa:  ['how', 'the', 'fox', 'daft', 'a', 'early', 'jump', 'quick', 'for', 'bad', 'life', 'bird', 'dog', 'she', 'waltz', 'zebras', 'is', 'over', 'jigs', 'lazy', 'highway', 'vex', 'vexingly', 'brown', 'jumps', 'an', 'nymph']\n",
      "Macierz Bag of Words:\n",
      "[0, 2, 1, 0, 0, 0, 0, 1, 0, 0, 0, 0, 1, 0, 0, 0, 0, 1, 0, 1, 0, 0, 0, 1, 1, 0, 0]\n",
      "[0, 0, 0, 0, 1, 0, 0, 0, 0, 0, 1, 0, 0, 0, 0, 0, 1, 0, 0, 0, 1, 0, 0, 0, 0, 0, 0]\n",
      "[0, 0, 0, 0, 0, 1, 0, 0, 0, 0, 0, 1, 0, 1, 0, 0, 1, 0, 0, 0, 0, 0, 0, 0, 0, 1, 0]\n",
      "[0, 0, 0, 0, 0, 0, 0, 1, 1, 1, 0, 0, 0, 0, 1, 0, 0, 0, 1, 0, 0, 1, 0, 0, 0, 0, 1]\n",
      "[1, 0, 0, 1, 0, 0, 1, 1, 0, 0, 0, 0, 0, 0, 0, 1, 0, 0, 0, 0, 0, 0, 1, 0, 0, 0, 0]\n"
     ]
    }
   ],
   "source": [
    "from sklearn.datasets import fetch_20newsgroups\n",
    "\n",
    "texts = [\n",
    "    \"The quick brown fox jumps over the lazy dog\",\n",
    "    \"Life is a highway.\",\n",
    "    \"She is an early bird.\",\n",
    "    \"Waltz, bad nymph, for quick jigs vex.\",\n",
    "    \"How vexingly quick daft zebras jump!\"    \n",
    "]\n",
    "\n",
    "new_vocab, new_bow_matrix = my_bag_of_words(texts)\n",
    "# Display dictionary\n",
    "print (\"Unikalne słowa: \", new_vocab)\n",
    "\n",
    "# Display bag od words matrix\n",
    "print(\"Macierz Bag of Words:\") \n",
    "for bow_vector in new_bow_matrix: \n",
    "    print(bow_vector)"
   ]
  }
 ],
 "metadata": {
  "kernelspec": {
   "display_name": "envGlobal",
   "language": "python",
   "name": "python3"
  },
  "language_info": {
   "codemirror_mode": {
    "name": "ipython",
    "version": 3
   },
   "file_extension": ".py",
   "mimetype": "text/x-python",
   "name": "python",
   "nbconvert_exporter": "python",
   "pygments_lexer": "ipython3",
   "version": "3.11.5"
  }
 },
 "nbformat": 4,
 "nbformat_minor": 2
}
