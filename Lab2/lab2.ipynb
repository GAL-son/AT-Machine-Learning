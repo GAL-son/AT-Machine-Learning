{
 "cells": [
  {
   "cell_type": "markdown",
   "metadata": {},
   "source": [
    "<h1>Machine Learning - Laboratory 2 - Data manipulation</h1>\n",
    "\n",
    "<p><b>Note</b> - Run All scripts before<p>"
   ]
  },
  {
   "cell_type": "markdown",
   "metadata": {},
   "source": [
    "<h3>Exc. 1 - Filtering incorrect data</h3>\n",
    "\n"
   ]
  },
  {
   "cell_type": "markdown",
   "metadata": {},
   "source": [
    "<h4>Generate random data</h4>"
   ]
  },
  {
   "cell_type": "code",
   "execution_count": 6,
   "metadata": {},
   "outputs": [
    {
     "ename": "ModuleNotFoundError",
     "evalue": "No module named 'pandas'",
     "output_type": "error",
     "traceback": [
      "\u001b[1;31m---------------------------------------------------------------------------\u001b[0m",
      "\u001b[1;31mModuleNotFoundError\u001b[0m                       Traceback (most recent call last)",
      "\u001b[1;32mc:\\Users\\pance\\Documents\\Code\\Python\\Uczenie maszynowe\\Lab2\\lab2.ipynb Cell 4\u001b[0m line \u001b[0;36m1\n\u001b[1;32m----> <a href='vscode-notebook-cell:/c%3A/Users/pance/Documents/Code/Python/Uczenie%20maszynowe/Lab2/lab2.ipynb#W3sZmlsZQ%3D%3D?line=0'>1</a>\u001b[0m \u001b[39mimport\u001b[39;00m \u001b[39mpandas\u001b[39;00m \u001b[39mas\u001b[39;00m \u001b[39mpd\u001b[39;00m\n\u001b[0;32m      <a href='vscode-notebook-cell:/c%3A/Users/pance/Documents/Code/Python/Uczenie%20maszynowe/Lab2/lab2.ipynb#W3sZmlsZQ%3D%3D?line=1'>2</a>\u001b[0m \u001b[39mimport\u001b[39;00m \u001b[39mnumpy\u001b[39;00m \u001b[39mas\u001b[39;00m \u001b[39mnp\u001b[39;00m\n\u001b[0;32m      <a href='vscode-notebook-cell:/c%3A/Users/pance/Documents/Code/Python/Uczenie%20maszynowe/Lab2/lab2.ipynb#W3sZmlsZQ%3D%3D?line=2'>3</a>\u001b[0m \u001b[39mimport\u001b[39;00m \u001b[39mmatplotlib\u001b[39;00m \u001b[39mas\u001b[39;00m \u001b[39mplt\u001b[39;00m\n",
      "\u001b[1;31mModuleNotFoundError\u001b[0m: No module named 'pandas'"
     ]
    }
   ],
   "source": [
    "import pandas as pd\n",
    "import numpy as np\n",
    "import matplotlib as plt\n",
    "import matplotlib.pyplot as pyplt\n",
    "\n",
    "# Generate random data\n",
    "np.random.seed(42)\n",
    "data = {\n",
    "    'A' : np.random.normal(5, .5, 100),\n",
    "    'B' : np.random.normal(0, 200, 100)\n",
    "}\n",
    "\n",
    "# Add artificial outlier data\n",
    "outliers = [40.5, 50.0, None, -4.0]\n",
    "data['A'] = np.concatenate((data['A'], outliers))\n",
    "data['B'] = np.concatenate((data['B'], outliers))\n",
    "\n",
    "# Create data frame\n",
    "df = pd.DataFrame(data)\n",
    "\n",
    "# Clean missing data\n",
    "df = df.dropna()\n",
    "\n",
    "print(df)"
   ]
  },
  {
   "cell_type": "code",
   "execution_count": null,
   "metadata": {},
   "outputs": [],
   "source": [
    "# Create data histogram\n",
    "def create_histogram(data, feature):\n",
    "    pyplt.figure(figsize=(8, 6))\n",
    "    pyplt.hist(data[feature], bins=50, edgecolor = 'k')\n",
    "    pyplt.xlabel(feature)\n",
    "    pyplt.ylabel('Number')\n",
    "    pyplt.title(f'Histogram {feature}')\n",
    "    pyplt.show()\n",
    "\n",
    "create_histogram(df, 'A')\n",
    "create_histogram(df, 'B')"
   ]
  },
  {
   "cell_type": "code",
   "execution_count": null,
   "metadata": {},
   "outputs": [],
   "source": [
    "# Calculate mean value and standard deviation for given data\n",
    "mean = {\n",
    "    'A' : np.mean(df['A']),\n",
    "    'B' : np.mean(df['B'])\n",
    "}\n",
    "\n",
    "std = mean = {\n",
    "    'A' : np.std(df['A']),\n",
    "    'B' : np.std(df['B'])\n",
    "}\n",
    "\n",
    "print(f\"Mean: {mean}\")\n",
    "print(f\"Standard deviation: {std}\")"
   ]
  },
  {
   "cell_type": "code",
   "execution_count": null,
   "metadata": {},
   "outputs": [],
   "source": [
    "# Delete outlier data\n",
    "# If some data points are greater then +/- 3 times the standdard deviation - they can be deleted\n",
    "limits = {\n",
    "    'A' : [-3.9, mean['A'] + (2*std['A'])],\n",
    "    'B' : [mean['B'] - (3*std['B']), mean['B'] + (3*std['B'])]\n",
    "}\n",
    "\n",
    "df = df[(df['A'] >= limits['A'][0]) & (df['A'] <= limits['A'][1])]\n",
    "\n",
    "df = df[(df['B'] >= limits['B'][0]) & (df['B'] <= limits['B'][1])]\n",
    "\n",
    "print(df)"
   ]
  },
  {
   "cell_type": "code",
   "execution_count": null,
   "metadata": {},
   "outputs": [],
   "source": [
    "# Displaing cleand data\n",
    "create_histogram(df, 'A')\n",
    "create_histogram(df, 'B')"
   ]
  },
  {
   "cell_type": "markdown",
   "metadata": {},
   "source": [
    "<h3>Exc. 2 - Data standarization</h3>"
   ]
  },
  {
   "cell_type": "code",
   "execution_count": null,
   "metadata": {},
   "outputs": [],
   "source": [
    "# Create scatter plot\n",
    "def create_scatter_plot(dataset, datax, datay):\n",
    "    # Scatter plot\n",
    "    pyplt.figure(figsize=(8, 6))  \n",
    "\n",
    "    allValues = np.concatenate((dataset[datax], dataset[datay]))\n",
    "    lower_value = min(allValues) - 5\n",
    "    upper_value = max(allValues) + 5\n",
    "\n",
    "    pyplt.xlim([lower_value, upper_value])\n",
    "    pyplt.ylim([lower_value, upper_value])\n",
    "    pyplt.scatter(dataset[datax], dataset[datay])\n",
    "\n",
    "    pyplt.xlabel(datax)\n",
    "    pyplt.ylabel(datay)\n",
    "    pyplt.legend()\n",
    "    pyplt.show()\n",
    "\n",
    "create_scatter_plot(df, 'A', 'B')"
   ]
  },
  {
   "cell_type": "code",
   "execution_count": null,
   "metadata": {},
   "outputs": [],
   "source": [
    "from sklearn.preprocessing import StandardScaler \n",
    "scaler = StandardScaler() \n",
    "df[['A', 'B']] = scaler.fit_transform(df[['A', 'B']])\n",
    "\n",
    "create_scatter_plot(df, 'A', 'B')"
   ]
  },
  {
   "cell_type": "code",
   "execution_count": null,
   "metadata": {},
   "outputs": [],
   "source": [
    "# Calculate mean value and standard deviation for given data\n",
    "mean = {\n",
    "    'A' : np.mean(df['A']),\n",
    "    'B' : np.mean(df['B'])\n",
    "}\n",
    "\n",
    "std = mean = {\n",
    "    'A' : np.std(df['A']),\n",
    "    'B' : np.std(df['B'])\n",
    "}\n",
    "\n",
    "print(f\"Mean: {mean}\")\n",
    "print(f\"Standard deviation: {std}\")"
   ]
  },
  {
   "cell_type": "markdown",
   "metadata": {},
   "source": []
  }
 ],
 "metadata": {
  "kernelspec": {
   "display_name": "Python 3",
   "language": "python",
   "name": "python3"
  },
  "language_info": {
   "codemirror_mode": {
    "name": "ipython",
    "version": 3
   },
   "file_extension": ".py",
   "mimetype": "text/x-python",
   "name": "python",
   "nbconvert_exporter": "python",
   "pygments_lexer": "ipython3",
   "version": "3.12.0"
  }
 },
 "nbformat": 4,
 "nbformat_minor": 2
}
